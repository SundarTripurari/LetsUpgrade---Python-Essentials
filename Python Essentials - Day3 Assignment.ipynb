{
 "cells": [
  {
   "cell_type": "markdown",
   "metadata": {},
   "source": [
    "# LetsUpgrade Python Essentials\n",
    "\n",
    "## Day 3 Assignments"
   ]
  },
  {
   "cell_type": "markdown",
   "metadata": {},
   "source": [
    "## Assignment 1"
   ]
  },
  {
   "cell_type": "markdown",
   "metadata": {},
   "source": [
    "Sum of N numbers using while loop"
   ]
  },
  {
   "cell_type": "code",
   "execution_count": 2,
   "metadata": {},
   "outputs": [
    {
     "name": "stdout",
     "output_type": "stream",
     "text": [
      "Enter a value:10\n",
      "55\n"
     ]
    }
   ],
   "source": [
    "n = int(input(\"Enter a value:\"))\n",
    "sum1 = 0\n",
    "i = 0\n",
    "while(i<=n):\n",
    "    sum1+=i\n",
    "    i+=1\n",
    "print(sum1)"
   ]
  },
  {
   "cell_type": "markdown",
   "metadata": {},
   "source": [
    "## Assignment 2"
   ]
  },
  {
   "cell_type": "markdown",
   "metadata": {},
   "source": [
    "To check a Number is Prime or not"
   ]
  },
  {
   "cell_type": "code",
   "execution_count": 3,
   "metadata": {},
   "outputs": [
    {
     "name": "stdout",
     "output_type": "stream",
     "text": [
      "Enter a number:2\n",
      "It is a Prime Number\n"
     ]
    }
   ],
   "source": [
    "num = int(input(\"Enter a number:\"))\n",
    "if num==2:\n",
    "    print(\"It is a Prime Number\")\n",
    "elif(num>2):\n",
    "    for i in range(2,num):\n",
    "        if(num%i==0):\n",
    "            print(\"It is not a Prime Number\")\n",
    "            break\n",
    "    else:\n",
    "        print(\"It is a Prime Number\")\n",
    "else:\n",
    "    print(\"It is not a Prime Number\")"
   ]
  },
  {
   "cell_type": "code",
   "execution_count": 4,
   "metadata": {},
   "outputs": [
    {
     "name": "stdout",
     "output_type": "stream",
     "text": [
      "Enter a number:1\n",
      "It is not a Prime Number\n"
     ]
    }
   ],
   "source": [
    "num = int(input(\"Enter a number:\"))\n",
    "if num==2:\n",
    "    print(\"It is a Prime Number\")\n",
    "elif(num>2):\n",
    "    for i in range(2,num):\n",
    "        if(num%i==0):\n",
    "            print(\"It is not a Prime Number\")\n",
    "            break\n",
    "    else:\n",
    "        print(\"It is a Prime Number\")\n",
    "else:\n",
    "    print(\"It is not a Prime Number\")"
   ]
  },
  {
   "cell_type": "code",
   "execution_count": 5,
   "metadata": {},
   "outputs": [
    {
     "name": "stdout",
     "output_type": "stream",
     "text": [
      "Enter a number:7\n",
      "It is a Prime Number\n"
     ]
    }
   ],
   "source": [
    "num = int(input(\"Enter a number:\"))\n",
    "if num==2:\n",
    "    print(\"It is a Prime Number\")\n",
    "elif(num>2):\n",
    "    for i in range(2,num):\n",
    "        if(num%i==0):\n",
    "            print(\"It is not a Prime Number\")\n",
    "            break\n",
    "    else:\n",
    "        print(\"It is a Prime Number\")\n",
    "else:\n",
    "    print(\"It is not a Prime Number\")"
   ]
  },
  {
   "cell_type": "code",
   "execution_count": 6,
   "metadata": {},
   "outputs": [
    {
     "name": "stdout",
     "output_type": "stream",
     "text": [
      "Enter a number:100\n",
      "It is not a Prime Number\n"
     ]
    }
   ],
   "source": [
    "num = int(input(\"Enter a number:\"))\n",
    "if num==2:\n",
    "    print(\"It is a Prime Number\")\n",
    "elif(num>2):\n",
    "    for i in range(2,num):\n",
    "        if(num%i==0):\n",
    "            print(\"It is not a Prime Number\")\n",
    "            break\n",
    "    else:\n",
    "        print(\"It is a Prime Number\")\n",
    "else:\n",
    "    print(\"It is not a Prime Number\")"
   ]
  }
 ],
 "metadata": {
  "kernelspec": {
   "display_name": "Python 3",
   "language": "python",
   "name": "python3"
  },
  "language_info": {
   "codemirror_mode": {
    "name": "ipython",
    "version": 3
   },
   "file_extension": ".py",
   "mimetype": "text/x-python",
   "name": "python",
   "nbconvert_exporter": "python",
   "pygments_lexer": "ipython3",
   "version": "3.7.6"
  }
 },
 "nbformat": 4,
 "nbformat_minor": 4
}
